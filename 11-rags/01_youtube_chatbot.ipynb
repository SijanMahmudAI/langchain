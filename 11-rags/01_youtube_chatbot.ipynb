{
 "cells": [
  {
   "cell_type": "code",
   "execution_count": null,
   "id": "cc314efa",
   "metadata": {},
   "outputs": [],
   "source": [
    "# Import all necessary libraries and modules\n",
    "from youtube_transcript_api import YouTubeTranscriptApi\n",
    "from langchain.text_splitter import RecursiveCharacterTextSplitter\n",
    "from langchain_google_genai import ChatGoogleGenerativeAI, GoogleGenerativeAIEmbeddings\n",
    "from langchain_huggingface import HuggingFaceEmbeddings\n",
    "from langchain_community.vectorstores import FAISS\n",
    "from langchain_core.prompts import PromptTemplate\n",
    "from langchain_core.output_parsers import StrOutputParser\n",
    "from urllib.parse import urlparse, parse_qs\n",
    "from dotenv import load_dotenv"
   ]
  },
  {
   "cell_type": "code",
   "execution_count": null,
   "id": "566134b3",
   "metadata": {},
   "outputs": [],
   "source": [
    "# Load environment variables from a .env file\n",
    "load_dotenv()"
   ]
  },
  {
   "cell_type": "markdown",
   "id": "d1fd7fb6",
   "metadata": {},
   "source": [
    "## **Step 1A : Indexing ( Document Ingestion )**"
   ]
  },
  {
   "cell_type": "code",
   "execution_count": null,
   "id": "d8b0da54",
   "metadata": {},
   "outputs": [],
   "source": [
    "# Give the video url here:\n",
    "video_url = \"https://www.youtube.com/watch?v=Gfr50f6ZBvo\""
   ]
  },
  {
   "cell_type": "code",
   "execution_count": null,
   "id": "071cb967",
   "metadata": {},
   "outputs": [],
   "source": [
    "# Function to extract video ID from URL\n",
    "def get_video_id(url: str) -> str:\n",
    "    parsed_url = urlparse(url)\n",
    "    if parsed_url.hostname in [\"www.youtube.com\", \"youtube.com\"]:\n",
    "        return parse_qs(parsed_url.query)[\"v\"][0]   # normal youtube link\n",
    "    elif parsed_url.hostname == \"youtu.be\":\n",
    "        return parsed_url.path[1:]                  # short link\n",
    "    else:\n",
    "        raise ValueError(\"Invalid YouTube URL\")\n",
    "\n",
    "# Call the function with the provided URL\n",
    "video_id = get_video_id(video_url)\n",
    "video_id\n"
   ]
  },
  {
   "cell_type": "code",
   "execution_count": null,
   "id": "cd33eebc",
   "metadata": {},
   "outputs": [],
   "source": [
    "# Fetch and print the transcript\n",
    "try:\n",
    "    # Load the transcript using the YouTubeTranscriptApi\n",
    "    ytt_api = YouTubeTranscriptApi()\n",
    "    response = ytt_api.fetch(video_id,languages=[\"en\"])\n",
    "\n",
    "    # Combine all text snippets into a single transcript\n",
    "    transcript = \" \".join([chunk.text for chunk in response.snippets])\n",
    "    print(transcript)\n",
    "except:\n",
    "    print(\"No caption available for this video.\")"
   ]
  },
  {
   "cell_type": "markdown",
   "id": "818e138c",
   "metadata": {},
   "source": [
    "## **Step 1B : Indexing ( Text Splitting )**"
   ]
  },
  {
   "cell_type": "code",
   "execution_count": null,
   "id": "d6b90856",
   "metadata": {},
   "outputs": [],
   "source": [
    "# Initialize the text splitter\n",
    "splitter = RecursiveCharacterTextSplitter(\n",
    "    chunk_size=1000,\n",
    "    chunk_overlap=200,\n",
    ")\n",
    "\n",
    "# Split the transcript into smaller chunks\n",
    "chunks = splitter.create_documents([transcript])"
   ]
  },
  {
   "cell_type": "code",
   "execution_count": null,
   "id": "a491932d",
   "metadata": {},
   "outputs": [],
   "source": [
    "# Print the number of chunks created\n",
    "print(len(chunks))"
   ]
  },
  {
   "cell_type": "markdown",
   "id": "f4f9068a",
   "metadata": {},
   "source": [
    "## **Step 1C & 1D : Indexing ( Embedding Generation and Storing in Vector Store )**"
   ]
  },
  {
   "cell_type": "code",
   "execution_count": null,
   "id": "f10a4ee1",
   "metadata": {},
   "outputs": [],
   "source": [
    "# Initialize the embedding model\n",
    "embedding = HuggingFaceEmbeddings(model_name = \"sentence-transformers/all-MiniLM-L6-v2\")\n",
    "\n",
    "# Create a FAISS vector store from the chunks and embeddings\n",
    "vectorstore = FAISS.from_documents(chunks, embedding)"
   ]
  },
  {
   "cell_type": "code",
   "execution_count": null,
   "id": "64bff1c2",
   "metadata": {},
   "outputs": [],
   "source": [
    "# Get the IDs of the documents in the vector store\n",
    "vectorstore.index_to_docstore_id"
   ]
  },
  {
   "cell_type": "markdown",
   "id": "1e718564",
   "metadata": {},
   "source": [
    "## **Step 2 : Retriever**"
   ]
  },
  {
   "cell_type": "code",
   "execution_count": null,
   "id": "9ec7e11c",
   "metadata": {},
   "outputs": [],
   "source": [
    "# Create a retriever from the vector store\n",
    "retriever = vectorstore.as_retriever(\n",
    "    search_type=\"similarity\", \n",
    "    search_kwargs={\"k\": 4}\n",
    ")"
   ]
  },
  {
   "cell_type": "code",
   "execution_count": null,
   "id": "524baf9d",
   "metadata": {},
   "outputs": [],
   "source": [
    "# Invoke the retriever with a sample query\n",
    "retriever.invoke(\"What is DeepMind\")"
   ]
  },
  {
   "cell_type": "markdown",
   "id": "c0ce925c",
   "metadata": {},
   "source": [
    "## **Step 3 : Augmentation**"
   ]
  },
  {
   "cell_type": "code",
   "execution_count": null,
   "id": "bdeacfbf",
   "metadata": {},
   "outputs": [],
   "source": [
    "# Create a PromptTemplate\n",
    "template = PromptTemplate(\n",
    "    template=\n",
    "    \"\"\"\n",
    "    You are a helpful assistant.\n",
    "    Answer Only from the provided transcript context.\n",
    "    If the context is insufficient, just say you don't know.\n",
    "    Context: {context}\n",
    "    Question: {question}\n",
    "    \"\"\",\n",
    "    input_variables=[\"context\", \"question\"]\n",
    ")"
   ]
  },
  {
   "cell_type": "code",
   "execution_count": null,
   "id": "7b558013",
   "metadata": {},
   "outputs": [],
   "source": [
    "# Define the question to be asked\n",
    "question = \"is the topic of aliens discussed in the video? if yes, then what was discussed?\""
   ]
  },
  {
   "cell_type": "code",
   "execution_count": null,
   "id": "6635d70a",
   "metadata": {},
   "outputs": [],
   "source": [
    "# Retrieve relevant documents based on the question\n",
    "retrieved_docs = retriever.invoke(question)"
   ]
  },
  {
   "cell_type": "code",
   "execution_count": null,
   "id": "3976ccd0",
   "metadata": {},
   "outputs": [],
   "source": [
    "# Combine the content of the retrieved documents into a single context string\n",
    "context_text = \"\\n\\n\".join([doc.page_content for doc in retrieved_docs])"
   ]
  },
  {
   "cell_type": "code",
   "execution_count": null,
   "id": "9cd7c5d9",
   "metadata": {},
   "outputs": [],
   "source": [
    "# Create the final Prompt\n",
    "prompt = template.invoke(\n",
    "    {\n",
    "        \"context\": context_text,\n",
    "        \"question\": question\n",
    "    }\n",
    ")"
   ]
  },
  {
   "cell_type": "code",
   "execution_count": null,
   "id": "101e180e",
   "metadata": {},
   "outputs": [],
   "source": [
    "prompt"
   ]
  },
  {
   "cell_type": "markdown",
   "id": "c01b6766",
   "metadata": {},
   "source": [
    "## **Step 4 : Generation**"
   ]
  },
  {
   "cell_type": "code",
   "execution_count": null,
   "id": "04b31c54",
   "metadata": {},
   "outputs": [],
   "source": [
    "# Initialize the chat model\n",
    "model = ChatGoogleGenerativeAI(model=\"gemini-2.5-pro\")"
   ]
  },
  {
   "cell_type": "code",
   "execution_count": null,
   "id": "f4cb22d9",
   "metadata": {},
   "outputs": [],
   "source": [
    "# Initialize a StrOutputParser\n",
    "parser = StrOutputParser()"
   ]
  },
  {
   "cell_type": "code",
   "execution_count": null,
   "id": "7db4cf5f",
   "metadata": {},
   "outputs": [],
   "source": [
    "# Generate a response using the model and the prompt\n",
    "result = model.invoke(prompt)"
   ]
  },
  {
   "cell_type": "code",
   "execution_count": null,
   "id": "0dde0889",
   "metadata": {},
   "outputs": [],
   "source": [
    "# Print the generated response\n",
    "result.content"
   ]
  }
 ],
 "metadata": {
  "kernelspec": {
   "display_name": "langchain",
   "language": "python",
   "name": "python3"
  },
  "language_info": {
   "codemirror_mode": {
    "name": "ipython",
    "version": 3
   },
   "file_extension": ".py",
   "mimetype": "text/x-python",
   "name": "python",
   "nbconvert_exporter": "python",
   "pygments_lexer": "ipython3",
   "version": "3.13.2"
  }
 },
 "nbformat": 4,
 "nbformat_minor": 5
}
