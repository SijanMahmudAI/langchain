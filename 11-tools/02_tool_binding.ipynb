{
 "cells": [
  {
   "cell_type": "code",
   "execution_count": null,
   "id": "5973aecc",
   "metadata": {},
   "outputs": [],
   "source": [
    "from langchain.chat_models import init_chat_model\n",
    "from langchain_core.tools import tool\n",
    "from langchain_core.messages import HumanMessage\n",
    "from dotenv import load_dotenv\n",
    "\n",
    "# Load environment variables from .env file\n",
    "load_dotenv()"
   ]
  },
  {
   "cell_type": "code",
   "execution_count": null,
   "id": "93e2d585",
   "metadata": {},
   "outputs": [],
   "source": [
    "# Create Tool\n",
    "@tool\n",
    "def multiply(a: int, b: int) -> int:\n",
    "    \"\"\"Given 2 numbers a and b this tool will return the product of a and b.\"\"\"\n",
    "    return a * b"
   ]
  },
  {
   "cell_type": "code",
   "execution_count": null,
   "id": "8cc465a4",
   "metadata": {},
   "outputs": [],
   "source": [
    "print(multiply.invoke({\"a\": 5, \"b\": 6}))"
   ]
  },
  {
   "cell_type": "code",
   "execution_count": null,
   "id": "87f441d9",
   "metadata": {},
   "outputs": [],
   "source": [
    "multiply.name"
   ]
  },
  {
   "cell_type": "code",
   "execution_count": null,
   "id": "1c7ff129",
   "metadata": {},
   "outputs": [],
   "source": [
    "multiply.description"
   ]
  },
  {
   "cell_type": "code",
   "execution_count": null,
   "id": "4c528878",
   "metadata": {},
   "outputs": [],
   "source": [
    "multiply.args"
   ]
  },
  {
   "cell_type": "code",
   "execution_count": null,
   "id": "4b752df1",
   "metadata": {},
   "outputs": [],
   "source": [
    "# Tool binding with LLM\n",
    "llm = init_chat_model(\"gemini-2.5-flash\", model_provider=\"google_genai\")"
   ]
  },
  {
   "cell_type": "code",
   "execution_count": null,
   "id": "9b752509",
   "metadata": {},
   "outputs": [],
   "source": [
    "llm_with_tools = llm.bind_tools([multiply])"
   ]
  },
  {
   "cell_type": "code",
   "execution_count": null,
   "id": "a107cd22",
   "metadata": {},
   "outputs": [],
   "source": [
    "llm_with_tools.invoke(\"Hi , How are you?\")"
   ]
  },
  {
   "cell_type": "code",
   "execution_count": null,
   "id": "b19717f6",
   "metadata": {},
   "outputs": [],
   "source": [
    "query = HumanMessage(content=\"What is the product of 5 and 6?\")"
   ]
  },
  {
   "cell_type": "code",
   "execution_count": null,
   "id": "f67b4908",
   "metadata": {},
   "outputs": [],
   "source": [
    "message = [query]"
   ]
  },
  {
   "cell_type": "code",
   "execution_count": null,
   "id": "3c202f52",
   "metadata": {},
   "outputs": [],
   "source": [
    "result = llm_with_tools.invoke(message)\n",
    "result"
   ]
  },
  {
   "cell_type": "code",
   "execution_count": null,
   "id": "4885ffbc",
   "metadata": {},
   "outputs": [],
   "source": [
    "message.append(result)\n",
    "message"
   ]
  },
  {
   "cell_type": "code",
   "execution_count": null,
   "id": "eee89638",
   "metadata": {},
   "outputs": [],
   "source": [
    "result.tool_calls[0]"
   ]
  },
  {
   "cell_type": "code",
   "execution_count": null,
   "id": "c0f8db9f",
   "metadata": {},
   "outputs": [],
   "source": [
    "multiply.invoke(result.tool_calls[0][\"args\"])"
   ]
  },
  {
   "cell_type": "code",
   "execution_count": null,
   "id": "5986df54",
   "metadata": {},
   "outputs": [],
   "source": [
    "tool_message = multiply.invoke(result.tool_calls[0])\n",
    "tool_message"
   ]
  },
  {
   "cell_type": "code",
   "execution_count": null,
   "id": "6098844a",
   "metadata": {},
   "outputs": [],
   "source": [
    "message.append(tool_message)\n",
    "message"
   ]
  },
  {
   "cell_type": "code",
   "execution_count": null,
   "id": "c6efb043",
   "metadata": {},
   "outputs": [],
   "source": [
    "llm_with_tools.invoke(message)"
   ]
  }
 ],
 "metadata": {
  "kernelspec": {
   "display_name": "langchain",
   "language": "python",
   "name": "python3"
  },
  "language_info": {
   "codemirror_mode": {
    "name": "ipython",
    "version": 3
   },
   "file_extension": ".py",
   "mimetype": "text/x-python",
   "name": "python",
   "nbconvert_exporter": "python",
   "pygments_lexer": "ipython3",
   "version": "3.13.2"
  }
 },
 "nbformat": 4,
 "nbformat_minor": 5
}
