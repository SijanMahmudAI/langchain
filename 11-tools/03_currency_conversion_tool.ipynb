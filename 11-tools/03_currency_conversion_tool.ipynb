{
 "cells": [
  {
   "cell_type": "code",
   "execution_count": null,
   "id": "c9eb874e",
   "metadata": {},
   "outputs": [],
   "source": [
    "from langchain.chat_models import init_chat_model\n",
    "from langchain_core.tools import tool\n",
    "from langchain_core.messages import HumanMessage\n",
    "from dotenv import load_dotenv\n",
    "import requests\n",
    "import json\n",
    "\n",
    "# Load environment variables from .env file\n",
    "load_dotenv()"
   ]
  },
  {
   "cell_type": "code",
   "execution_count": null,
   "id": "c301b500",
   "metadata": {},
   "outputs": [],
   "source": [
    "# Create Tools\n",
    "@tool\n",
    "def get_conversion_rate(base_currency: str, target_currency: str) -> str:\n",
    "    \"\"\"\n",
    "    This Tool will fetch the conversion rate between the base currency and target currency.\n",
    "    \"\"\"\n",
    "    url = f\"https://v6.exchangerate-api.com/v6/4b4077b4beaf22fb3103a097/pair/{base_currency}/{target_currency}\"\n",
    "    response = requests.get(url)\n",
    "    return response.json()\n",
    "\n",
    "@tool\n",
    "def convert(base_currency_value: int, conversion_rate: float) -> float:\n",
    "    \"\"\"\n",
    "    Given a currency conversion rate this function calculates the target currency value from the base currency value.\n",
    "    \"\"\"\n",
    "    return base_currency_value * conversion_rate"
   ]
  },
  {
   "cell_type": "code",
   "execution_count": null,
   "id": "5b3bbb5d",
   "metadata": {},
   "outputs": [],
   "source": [
    "get_conversion_rate.invoke({\"base_currency\": \"USD\", \"target_currency\": \"bdt\"})"
   ]
  },
  {
   "cell_type": "code",
   "execution_count": null,
   "id": "1361fb6c",
   "metadata": {},
   "outputs": [],
   "source": [
    "convert.invoke({\"base_currency_value\": 100, \"conversion_rate\": 108.25})"
   ]
  },
  {
   "cell_type": "code",
   "execution_count": null,
   "id": "da6614a8",
   "metadata": {},
   "outputs": [],
   "source": [
    "# Bind Tools to LLM\n",
    "llm = init_chat_model(\"gemini-2.5-flash\", model_provider=\"google_genai\")\n",
    "llm_with_tools = llm.bind_tools([get_conversion_rate, convert])"
   ]
  },
  {
   "cell_type": "code",
   "execution_count": null,
   "id": "591f6673",
   "metadata": {},
   "outputs": [],
   "source": [
    "messages = [\n",
    "    HumanMessage(content=\"What is the conversion rate between USD and BDT, and based on that can you convert 8000 USD to BDT\")\n",
    "]"
   ]
  },
  {
   "cell_type": "code",
   "execution_count": null,
   "id": "b489c7b4",
   "metadata": {},
   "outputs": [],
   "source": [
    "messages"
   ]
  },
  {
   "cell_type": "code",
   "execution_count": null,
   "id": "5bcc8cd2",
   "metadata": {},
   "outputs": [],
   "source": [
    "ai_message = llm_with_tools.invoke(messages)\n",
    "ai_message"
   ]
  },
  {
   "cell_type": "code",
   "execution_count": null,
   "id": "688d8b66",
   "metadata": {},
   "outputs": [],
   "source": [
    "messages.append(ai_message)\n",
    "messages"
   ]
  },
  {
   "cell_type": "code",
   "execution_count": null,
   "id": "45b66fc4",
   "metadata": {},
   "outputs": [],
   "source": [
    "ai_message = llm_with_tools.invoke(messages)\n",
    "ai_message"
   ]
  },
  {
   "cell_type": "code",
   "execution_count": null,
   "id": "e707494e",
   "metadata": {},
   "outputs": [],
   "source": [
    "messages.append(ai_message)\n",
    "messages"
   ]
  },
  {
   "cell_type": "code",
   "execution_count": null,
   "id": "3fc374d5",
   "metadata": {},
   "outputs": [],
   "source": [
    "final_result = llm_with_tools.invoke(messages)\n",
    "print(final_result)"
   ]
  },
  {
   "cell_type": "code",
   "execution_count": null,
   "id": "5c24a5e3",
   "metadata": {},
   "outputs": [],
   "source": [
    "print(final_result.content)"
   ]
  }
 ],
 "metadata": {
  "kernelspec": {
   "display_name": "langchain",
   "language": "python",
   "name": "python3"
  },
  "language_info": {
   "codemirror_mode": {
    "name": "ipython",
    "version": 3
   },
   "file_extension": ".py",
   "mimetype": "text/x-python",
   "name": "python",
   "nbconvert_exporter": "python",
   "pygments_lexer": "ipython3",
   "version": "3.13.2"
  }
 },
 "nbformat": 4,
 "nbformat_minor": 5
}
