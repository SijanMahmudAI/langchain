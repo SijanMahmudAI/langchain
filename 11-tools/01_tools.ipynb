{
 "cells": [
  {
   "cell_type": "markdown",
   "id": "a4a3d8d3",
   "metadata": {},
   "source": [
    "### **Built-in Tool - DuckDuckGo Search**"
   ]
  },
  {
   "cell_type": "code",
   "execution_count": null,
   "id": "c73ca1da",
   "metadata": {},
   "outputs": [],
   "source": [
    "from langchain_community.tools import DuckDuckGoSearchRun\n",
    "\n",
    "search = DuckDuckGoSearchRun()\n",
    "\n",
    "result = search.invoke(\"What is LangChain?\")\n",
    "\n",
    "print(result)\n"
   ]
  },
  {
   "cell_type": "code",
   "execution_count": null,
   "id": "d5c48a4d",
   "metadata": {},
   "outputs": [],
   "source": [
    "print(search.name)\n",
    "print(search.description)\n",
    "print(search.args)\n"
   ]
  },
  {
   "cell_type": "markdown",
   "id": "3a785fe9",
   "metadata": {},
   "source": [
    "### **Built-in Tool - Shell Tool**"
   ]
  },
  {
   "cell_type": "code",
   "execution_count": null,
   "id": "3e4c273c",
   "metadata": {},
   "outputs": [],
   "source": [
    "from langchain_community.tools import ShellTool\n",
    "\n",
    "shell_tool = ShellTool()\n",
    "\n",
    "result = shell_tool.invoke(\"whoami\")\n",
    "\n",
    "print(result)\n"
   ]
  },
  {
   "cell_type": "markdown",
   "id": "affa3b02",
   "metadata": {},
   "source": [
    "### **Custom Tool**"
   ]
  },
  {
   "cell_type": "code",
   "execution_count": null,
   "id": "569d2a76",
   "metadata": {},
   "outputs": [],
   "source": [
    "from langchain_core.tools import tool"
   ]
  },
  {
   "cell_type": "code",
   "execution_count": null,
   "id": "bfa271ec",
   "metadata": {},
   "outputs": [],
   "source": [
    "# Step 1: Create a funciton with docstring\n",
    "def multiply(a,b):\n",
    "    \"\"\"Multiply two numbers\"\"\"\n",
    "    return a * b"
   ]
  },
  {
   "cell_type": "code",
   "execution_count": null,
   "id": "3963cd22",
   "metadata": {},
   "outputs": [],
   "source": [
    "# Step 2: add type hints\n",
    "def multiply(a: int, b: int) -> int:\n",
    "    \"\"\"Multiply two numbers\"\"\"\n",
    "    return a * b"
   ]
  },
  {
   "cell_type": "code",
   "execution_count": null,
   "id": "319658ef",
   "metadata": {},
   "outputs": [],
   "source": [
    "# Step 3: add the tool decorator\n",
    "@tool\n",
    "def multiply(a: int, b: int) -> int:\n",
    "    \"\"\"Multiply two numbers\"\"\"\n",
    "    return a * b\n"
   ]
  },
  {
   "cell_type": "code",
   "execution_count": null,
   "id": "16cda125",
   "metadata": {},
   "outputs": [],
   "source": [
    "result = multiply.invoke({\"a\": 5, \"b\": 10})\n",
    "result"
   ]
  },
  {
   "cell_type": "code",
   "execution_count": null,
   "id": "0fb4c97b",
   "metadata": {},
   "outputs": [],
   "source": [
    "print(multiply.name)\n",
    "print(multiply.description)\n",
    "print(multiply.args)"
   ]
  },
  {
   "cell_type": "code",
   "execution_count": null,
   "id": "c633233d",
   "metadata": {},
   "outputs": [],
   "source": [
    "print(multiply.args_schema.model_json_schema())"
   ]
  },
  {
   "cell_type": "markdown",
   "id": "2bd63375",
   "metadata": {},
   "source": [
    "### **Method 2: Using Structured Tool**"
   ]
  },
  {
   "cell_type": "code",
   "execution_count": null,
   "id": "466fb354",
   "metadata": {},
   "outputs": [],
   "source": [
    "from langchain.tools import StructuredTool\n",
    "from pydantic import BaseModel, Field"
   ]
  },
  {
   "cell_type": "code",
   "execution_count": null,
   "id": "2728b2a7",
   "metadata": {},
   "outputs": [],
   "source": [
    "class MultiplyInput(BaseModel):\n",
    "    a: int = Field(required=True, description=\"The first number to multiply\")\n",
    "    b: int = Field(required=True, description=\"The second number to multiply\")"
   ]
  },
  {
   "cell_type": "code",
   "execution_count": null,
   "id": "cf8265b6",
   "metadata": {},
   "outputs": [],
   "source": [
    "def multiply_func(a: int, b: int) -> int:\n",
    "    return a * b"
   ]
  },
  {
   "cell_type": "code",
   "execution_count": null,
   "id": "35ef0f9a",
   "metadata": {},
   "outputs": [],
   "source": [
    "multiply_tool = StructuredTool.from_function(\n",
    "    func=multiply_func,\n",
    "    name=\"multiply\",\n",
    "    description=\"Multiply two numbers\",\n",
    "    args_schema=MultiplyInput\n",
    ")"
   ]
  },
  {
   "cell_type": "code",
   "execution_count": null,
   "id": "bd7233ad",
   "metadata": {},
   "outputs": [],
   "source": [
    "result = multiply_tool.invoke({\"a\": 5, \"b\": 10})\n",
    "result"
   ]
  },
  {
   "cell_type": "code",
   "execution_count": null,
   "id": "c1872c97",
   "metadata": {},
   "outputs": [],
   "source": [
    "print(multiply_tool.name)\n",
    "print(multiply_tool.description)\n",
    "print(multiply_tool.args_schema.schema())"
   ]
  },
  {
   "cell_type": "markdown",
   "id": "aa210053",
   "metadata": {},
   "source": [
    "### **Method 3: Using BaseTool Class**"
   ]
  },
  {
   "cell_type": "code",
   "execution_count": null,
   "id": "3c790981",
   "metadata": {},
   "outputs": [],
   "source": [
    "from langchain.tools import BaseTool\n",
    "from pydantic import BaseModel, Field\n",
    "from typing import Type"
   ]
  },
  {
   "cell_type": "code",
   "execution_count": null,
   "id": "cf64612c",
   "metadata": {},
   "outputs": [],
   "source": [
    "# arg schema using pydantic\n",
    "class MultiplyInput(BaseModel):\n",
    "    a: int = Field(required=True, description=\"The first number to multiply\")\n",
    "    b: int = Field(required=True, description=\"The second number to multiply\")"
   ]
  },
  {
   "cell_type": "code",
   "execution_count": null,
   "id": "fe0b53d9",
   "metadata": {},
   "outputs": [],
   "source": [
    "class MultiplyTool(BaseTool):\n",
    "    name: str = \"multiply\"\n",
    "    description: str = \"Multiply two numbers\"\n",
    "    args_schema: Type[BaseModel] = MultiplyInput\n",
    "\n",
    "    def _run(self, a: int, b: int) -> int:\n",
    "        return a * b\n"
   ]
  },
  {
   "cell_type": "code",
   "execution_count": null,
   "id": "b74cd470",
   "metadata": {},
   "outputs": [],
   "source": [
    "multiply_tool = MultiplyTool()"
   ]
  },
  {
   "cell_type": "code",
   "execution_count": null,
   "id": "9af21d41",
   "metadata": {},
   "outputs": [],
   "source": [
    "result = multiply_tool.invoke({\"a\": 5, \"b\": 10})\n",
    "result"
   ]
  },
  {
   "cell_type": "code",
   "execution_count": null,
   "id": "59d531b5",
   "metadata": {},
   "outputs": [],
   "source": [
    "print(multiply_tool.name)\n",
    "print(multiply_tool.description)\n",
    "print(multiply_tool.args_schema.schema())"
   ]
  },
  {
   "cell_type": "markdown",
   "id": "731f8fdc",
   "metadata": {},
   "source": [
    "### **Toolkit**"
   ]
  },
  {
   "cell_type": "code",
   "execution_count": null,
   "id": "682f71ec",
   "metadata": {},
   "outputs": [],
   "source": [
    "from langchain_core.tools import tool"
   ]
  },
  {
   "cell_type": "code",
   "execution_count": null,
   "id": "e5da5592",
   "metadata": {},
   "outputs": [],
   "source": [
    "# custom tools\n",
    "\n",
    "@tool\n",
    "def add(a: int, b: int) -> int:\n",
    "    \"\"\"Add two numbers\"\"\"\n",
    "    return a + b\n",
    "\n",
    "@tool\n",
    "def multiply(a: int, b: int) -> int:\n",
    "    \"\"\"Multiply two numbers\"\"\"\n",
    "    return a * b"
   ]
  },
  {
   "cell_type": "code",
   "execution_count": null,
   "id": "39ed93e2",
   "metadata": {},
   "outputs": [],
   "source": [
    "class MathToolkit:\n",
    "    def get_tools(self):\n",
    "        return [add, multiply]"
   ]
  },
  {
   "cell_type": "code",
   "execution_count": null,
   "id": "7d77fd09",
   "metadata": {},
   "outputs": [],
   "source": [
    "toolkit = MathToolkit()\n",
    "tools = toolkit.get_tools()\n",
    "\n",
    "for tool in tools:\n",
    "    print(f\"{tool.name} => {tool.description}\")\n",
    "    "
   ]
  }
 ],
 "metadata": {
  "kernelspec": {
   "display_name": "langchain",
   "language": "python",
   "name": "python3"
  },
  "language_info": {
   "codemirror_mode": {
    "name": "ipython",
    "version": 3
   },
   "file_extension": ".py",
   "mimetype": "text/x-python",
   "name": "python",
   "nbconvert_exporter": "python",
   "pygments_lexer": "ipython3",
   "version": "3.13.7"
  }
 },
 "nbformat": 4,
 "nbformat_minor": 5
}
