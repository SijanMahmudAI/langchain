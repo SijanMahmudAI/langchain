{
 "cells": [
  {
   "cell_type": "code",
   "execution_count": null,
   "id": "fb51ea76",
   "metadata": {},
   "outputs": [],
   "source": [
    "# Import the WikipediaRetriever from langchain_community.retrievers\n",
    "from langchain_community.retrievers import WikipediaRetriever"
   ]
  },
  {
   "cell_type": "code",
   "execution_count": null,
   "id": "99aee3ee",
   "metadata": {},
   "outputs": [],
   "source": [
    "# Create a wikipedia retriever instance\n",
    "retriever = WikipediaRetriever(top_k_results=2, lang=\"en\")"
   ]
  },
  {
   "cell_type": "code",
   "execution_count": null,
   "id": "27b6e3b4",
   "metadata": {},
   "outputs": [],
   "source": [
    "# Define a query\n",
    "query = \"Tell me about the history of Bangladesh?\"\n",
    "\n",
    "# Use the retriever to get relevant documents\n",
    "docs = retriever.invoke(query)\n"
   ]
  },
  {
   "cell_type": "code",
   "execution_count": null,
   "id": "66626d13",
   "metadata": {},
   "outputs": [],
   "source": [
    "# Print the retrieved documents\n",
    "for i, doc in enumerate(docs):\n",
    "    print(f\"Document {i+1}:\\n{doc.page_content}\\n\")"
   ]
  }
 ],
 "metadata": {
  "kernelspec": {
   "display_name": "langchain",
   "language": "python",
   "name": "python3"
  },
  "language_info": {
   "codemirror_mode": {
    "name": "ipython",
    "version": 3
   },
   "file_extension": ".py",
   "mimetype": "text/x-python",
   "name": "python",
   "nbconvert_exporter": "python",
   "pygments_lexer": "ipython3",
   "version": "3.13.2"
  }
 },
 "nbformat": 4,
 "nbformat_minor": 5
}
