{
 "cells": [
  {
   "cell_type": "code",
   "execution_count": null,
   "id": "b7225ebf",
   "metadata": {},
   "outputs": [],
   "source": [
    "# Import all libraries and modules \n",
    "from langchain_huggingface import HuggingFaceEmbeddings, HuggingFaceEndpoint, ChatHuggingFace\n",
    "from langchain_openai import ChatOpenAI\n",
    "from langchain_community.vectorstores import FAISS\n",
    "from langchain.retrievers.contextual_compression import ContextualCompressionRetriever\n",
    "from langchain.retrievers.document_compressors import LLMChainExtractor\n",
    "from langchain_core.documents import Document\n",
    "from dotenv import load_dotenv\n",
    "\n",
    "# load the .env file\n",
    "load_dotenv()"
   ]
  },
  {
   "cell_type": "code",
   "execution_count": null,
   "id": "7df09fa0",
   "metadata": {},
   "outputs": [],
   "source": [
    "# Recreate the document objects from the previous data\n",
    "docs = [\n",
    "    Document(\n",
    "        page_content=\"\"\"The Grand Canyon is one of the most visited natural wonders in the world.\n",
    "Photosynthesis is the process by which green plants convert sunlight into energy.\n",
    "Millions of tourists travel to see it every year. The rocks date back millions of years.\"\"\",\n",
    "        metadata={\"source\": \"Doc1\"},\n",
    "    ),\n",
    "\n",
    "    Document(\n",
    "        page_content=\"\"\"In medieval Europe, castles were built primarily for defense.\n",
    "The chlorophyll in plant cells captures sunlight during photosynthesis.\n",
    "Knights wore armor made of metal. Siege weapons were often used to breach castle walls.\"\"\",\n",
    "        metadata={\"source\": \"Doc2\"},\n",
    "    ),\n",
    "\n",
    "    Document(\n",
    "        page_content=\"\"\"Basketball was invented by Dr. James Naismith in the late 19th century.\n",
    "It was originally played with a soccer ball and peach baskets. NBA is now a global league.\"\"\",\n",
    "        metadata={\"source\": \"Doc3\"},\n",
    "    ),\n",
    "\n",
    "    Document(\n",
    "        page_content=\"\"\"The history of cinema began in the late 1800s. Silent films were the earliest form.\n",
    "Thomas Edison was among the pioneers. Photosynthesis does not occur in animal cells.\n",
    "Modern filmmaking involves complex CGI and sound design.\"\"\",\n",
    "        metadata={\"source\": \"Doc4\"},\n",
    "    ),\n",
    "]\n"
   ]
  },
  {
   "cell_type": "code",
   "execution_count": null,
   "id": "177685fe",
   "metadata": {},
   "outputs": [],
   "source": [
    "# Create a FAISS vector store from the documents\n",
    "embedding_model = OpenAIEmbeddings()\n",
    "vector_store = FAISS.from_documents(docs, embedding_model)"
   ]
  },
  {
   "cell_type": "code",
   "execution_count": null,
   "id": "3de5d360",
   "metadata": {},
   "outputs": [],
   "source": [
    "base_retriever = vector_store.as_retriever(\n",
    "    search_kwargs={\"k\": 5}\n",
    ")"
   ]
  },
  {
   "cell_type": "code",
   "execution_count": null,
   "id": "6bf2e623",
   "metadata": {},
   "outputs": [],
   "source": [
    "# Set up the compressor using an LLM\n",
    "llm = ChatOpenAI(model=\"gpt-3.5-turbo\")\n",
    "compressor = LLMChainExtractor.from_llm(llm)"
   ]
  },
  {
   "cell_type": "code",
   "execution_count": null,
   "id": "6aaa9b8a",
   "metadata": {},
   "outputs": [],
   "source": [
    "# Create the contextual compression retriever\n",
    "compression_retriever = ContextualCompressionRetriever(\n",
    "    base_retriever=base_retriever,\n",
    "    base_compressor=compressor\n",
    ")"
   ]
  },
  {
   "cell_type": "code",
   "execution_count": null,
   "id": "0e4a0f92",
   "metadata": {},
   "outputs": [],
   "source": [
    "# Query the retriever\n",
    "query = \"What is Photosynthesis?\"\n",
    "compressed_result = compression_retriever.invoke(query)"
   ]
  },
  {
   "cell_type": "code",
   "execution_count": null,
   "id": "7d186ba7",
   "metadata": {},
   "outputs": [],
   "source": [
    "for i, doc in enumerate(compressed_result):\n",
    "    print(f\"result {i+1}: {doc.page_content}\")"
   ]
  }
 ],
 "metadata": {
  "kernelspec": {
   "display_name": "langchain",
   "language": "python",
   "name": "python3"
  },
  "language_info": {
   "codemirror_mode": {
    "name": "ipython",
    "version": 3
   },
   "file_extension": ".py",
   "mimetype": "text/x-python",
   "name": "python",
   "nbconvert_exporter": "python",
   "pygments_lexer": "ipython3",
   "version": "3.13.2"
  }
 },
 "nbformat": 4,
 "nbformat_minor": 5
}
