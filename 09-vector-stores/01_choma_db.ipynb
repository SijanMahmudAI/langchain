{
 "cells": [
  {
   "cell_type": "code",
   "execution_count": null,
   "id": "ac74969f",
   "metadata": {},
   "outputs": [],
   "source": [
    "# Import necessary libraries and modules\n",
    "from langchain_openai import OpenAIEmbeddings\n",
    "from langchain_huggingface import HuggingFaceEmbeddings\n",
    "from langchain.vectorstores import Chroma\n",
    "from dotenv import load_dotenv\n",
    "\n",
    "# Load environment variables from .env file\n",
    "load_dotenv()  "
   ]
  },
  {
   "cell_type": "code",
   "execution_count": 4,
   "id": "5aea3f30",
   "metadata": {},
   "outputs": [],
   "source": [
    "from langchain.schema import Document\n",
    "\n",
    "# Create LangChain documents for IPL players\n",
    "doc1 = Document(\n",
    "    page_content=\"Virat Kohli is one of the most successful and consistent batsmen in IPL history.Known for his aggressive batting style and exceptional run-scoring ability, he has been the backbone of Royal Challengers Bangalore for many seasons.\",\n",
    "    metadata={\"team\": \"Royal Challengers Bangalore\"}\n",
    ")\n",
    "\n",
    "doc2 = Document(\n",
    "    page_content=\"Rohit Sharma is the most successful captain in IPL history, leading Mumbai Indians to five titles. He's known for his calm demeanor, explosive batting, and brilliant leadership on the field.\",\n",
    "    metadata={\"team\": \"Mumbai Indians\"}\n",
    ")\n",
    "\n",
    "doc3 = Document(\n",
    "    page_content=\"MS Dhoni, famously known as Captain Cool, has led Chennai Super Kings to multiple IPL titles.His finishing skills, wicket-keeping excellence, and leadership qualities make him one of the greatest players in IPL history.\",\n",
    "    metadata={\"team\": \"Chennai Super Kings\"}\n",
    ")\n",
    "\n",
    "doc4 = Document(\n",
    "    page_content=\"Jasprit Bumrah is considered one of the best fast bowlers in T20 cricket. Playing for Mumbai Indians, he is known for his deadly yorkers, consistency, and ability to perform under pressure.\",\n",
    "    metadata={\"team\": \"Mumbai Indians\"}\n",
    ")\n",
    "\n",
    "doc5 = Document(\n",
    "    page_content=\"Ravindra Jadeja is a dynamic all-rounder who contributes with both bat and ball. Representing Chennai Super Kings, his aggressive batting, accurate left-arm spin, and sharp fielding have made him a match-winner on many occasions.\",\n",
    "    metadata={\"team\": \"Chennai Super Kings\"}\n",
    ")\n"
   ]
  },
  {
   "cell_type": "code",
   "execution_count": 5,
   "id": "c0a013f7",
   "metadata": {},
   "outputs": [],
   "source": [
    "docs = [doc1, doc2, doc3, doc4, doc5]"
   ]
  },
  {
   "cell_type": "code",
   "execution_count": 10,
   "id": "01f48153",
   "metadata": {},
   "outputs": [],
   "source": [
    "# Create a vector store using Chroma and OpenAI embeddings\n",
    "vector_store = Chroma(\n",
    "    embedding_function=HuggingFaceEmbeddings(model_name=\"sentence-transformers/all-MiniLM-L6-v2\"),\n",
    "    persist_directory=\"my_chroma_db\",\n",
    "    collection_name=\"sample\"\n",
    ")"
   ]
  },
  {
   "cell_type": "code",
   "execution_count": 11,
   "id": "3574bf59",
   "metadata": {},
   "outputs": [
    {
     "data": {
      "text/plain": [
       "['de8123b0-c166-43e0-ad17-3e90316684ae',\n",
       " 'fe876535-1b3e-422d-978f-c0293be11db8',\n",
       " '00ee6392-b7f9-4e05-9d77-f0962cfd4b7f',\n",
       " '802354cb-d6c1-4782-b39b-ad23913ac35c',\n",
       " 'd3e3d362-b744-4e05-bf6a-62933a6d7800']"
      ]
     },
     "execution_count": 11,
     "metadata": {},
     "output_type": "execute_result"
    }
   ],
   "source": [
    "# Add documents to the vector store\n",
    "vector_store.add_documents(docs)"
   ]
  },
  {
   "cell_type": "code",
   "execution_count": 14,
   "id": "50a28980",
   "metadata": {},
   "outputs": [
    {
     "data": {
      "text/plain": [
       "{'ids': ['de8123b0-c166-43e0-ad17-3e90316684ae',\n",
       "  'fe876535-1b3e-422d-978f-c0293be11db8',\n",
       "  '00ee6392-b7f9-4e05-9d77-f0962cfd4b7f',\n",
       "  '802354cb-d6c1-4782-b39b-ad23913ac35c',\n",
       "  'd3e3d362-b744-4e05-bf6a-62933a6d7800'],\n",
       " 'embeddings': array([[-0.00168742,  0.06090459, -0.05350135, ..., -0.02980726,\n",
       "          0.02090832,  0.00157771],\n",
       "        [-0.00630059,  0.02149991, -0.02465472, ..., -0.00917051,\n",
       "         -0.02858398,  0.02728118],\n",
       "        [-0.09095022,  0.03579462,  0.03354594, ..., -0.02800354,\n",
       "         -0.07701195, -0.01171459],\n",
       "        [ 0.01451916, -0.03316108, -0.03911339, ..., -0.10427225,\n",
       "          0.00339566,  0.09204794],\n",
       "        [ 0.00241315,  0.0432018 , -0.04259784, ..., -0.07994307,\n",
       "         -0.06304957,  0.01494549]], shape=(5, 384)),\n",
       " 'documents': ['Virat Kohli is one of the most successful and consistent batsmen in IPL history.Known for his aggressive batting style and exceptional run-scoring ability, he has been the backbone of Royal Challengers Bangalore for many seasons.',\n",
       "  \"Rohit Sharma is the most successful captain in IPL history, leading Mumbai Indians to five titles. He's known for his calm demeanor, explosive batting, and brilliant leadership on the field.\",\n",
       "  'MS Dhoni, famously known as Captain Cool, has led Chennai Super Kings to multiple IPL titles.His finishing skills, wicket-keeping excellence, and leadership qualities make him one of the greatest players in IPL history.',\n",
       "  'Jasprit Bumrah is considered one of the best fast bowlers in T20 cricket. Playing for Mumbai Indians, he is known for his deadly yorkers, consistency, and ability to perform under pressure.',\n",
       "  'Ravindra Jadeja is a dynamic all-rounder who contributes with both bat and ball. Representing Chennai Super Kings, his aggressive batting, accurate left-arm spin, and sharp fielding have made him a match-winner on many occasions.'],\n",
       " 'uris': None,\n",
       " 'included': ['embeddings', 'documents', 'metadatas'],\n",
       " 'data': None,\n",
       " 'metadatas': [{'team': 'Royal Challengers Bangalore'},\n",
       "  {'team': 'Mumbai Indians'},\n",
       "  {'team': 'Chennai Super Kings'},\n",
       "  {'team': 'Mumbai Indians'},\n",
       "  {'team': 'Chennai Super Kings'}]}"
      ]
     },
     "execution_count": 14,
     "metadata": {},
     "output_type": "execute_result"
    }
   ],
   "source": [
    "# Check the embedding from the vector store\n",
    "vector_store.get(include=[\"embeddings\",\"documents\", \"metadatas\"])"
   ]
  },
  {
   "cell_type": "code",
   "execution_count": 17,
   "id": "c046c09c",
   "metadata": {},
   "outputs": [
    {
     "data": {
      "text/plain": [
       "[Document(metadata={'team': 'Mumbai Indians'}, page_content=\"Rohit Sharma is the most successful captain in IPL history, leading Mumbai Indians to five titles. He's known for his calm demeanor, explosive batting, and brilliant leadership on the field.\")]"
      ]
     },
     "execution_count": 17,
     "metadata": {},
     "output_type": "execute_result"
    }
   ],
   "source": [
    "# Get similar documents based on a query\n",
    "query = \"Who is the best captain in IPL?\"\n",
    "vector_store.similarity_search(\n",
    "    query=query,\n",
    "    k=1\n",
    ")"
   ]
  },
  {
   "cell_type": "code",
   "execution_count": 20,
   "id": "80bc7bb3",
   "metadata": {},
   "outputs": [
    {
     "data": {
      "text/plain": [
       "[(Document(metadata={'team': 'Mumbai Indians'}, page_content=\"Rohit Sharma is the most successful captain in IPL history, leading Mumbai Indians to five titles. He's known for his calm demeanor, explosive batting, and brilliant leadership on the field.\"),\n",
       "  0.48918014764785767)]"
      ]
     },
     "execution_count": 20,
     "metadata": {},
     "output_type": "execute_result"
    }
   ],
   "source": [
    "# Get similarity search with scores\n",
    "query = \"Who is the best captain in IPL?\"\n",
    "vector_store.similarity_search_with_score(\n",
    "    query=query,\n",
    "    k=1\n",
    ")"
   ]
  },
  {
   "cell_type": "code",
   "execution_count": 21,
   "id": "26621660",
   "metadata": {},
   "outputs": [
    {
     "data": {
      "text/plain": [
       "[Document(metadata={'team': 'Mumbai Indians'}, page_content=\"Rohit Sharma is the most successful captain in IPL history, leading Mumbai Indians to five titles. He's known for his calm demeanor, explosive batting, and brilliant leadership on the field.\")]"
      ]
     },
     "execution_count": 21,
     "metadata": {},
     "output_type": "execute_result"
    }
   ],
   "source": [
    "# Meta data filtering\n",
    "vector_store.similarity_search(\n",
    "    filter={\"team\": \"Mumbai Indians\"},\n",
    "    query=\"Who is the best captain in IPL?\",\n",
    "    k=1\n",
    ")"
   ]
  },
  {
   "cell_type": "code",
   "execution_count": 24,
   "id": "8998f10d",
   "metadata": {},
   "outputs": [],
   "source": [
    "updated_doc1 = Document(\n",
    "    page_content=\"Virat Kohli, often called the 'Run Machine', is one of the greatest batsmen in modern cricket.He has consistently dominated all formats with his exceptional batting technique, fitness, and determination. As the former captain of the Indian cricket team, he has numerous records to his name, including being one of the fastest players to reach 8000, 9000, and 10000 ODI runs.\",\n",
    "    metadata={\"team\": \"Royal Challengers Bangalore\"}\n",
    ")"
   ]
  },
  {
   "cell_type": "code",
   "execution_count": 27,
   "id": "40f1520c",
   "metadata": {},
   "outputs": [],
   "source": [
    "# Update a document in the vector store\n",
    "vector_store.update_document(document_id=\"de8123b0-c166-43e0-ad17-3e90316684ae\", document=updated_doc1)"
   ]
  },
  {
   "cell_type": "code",
   "execution_count": 28,
   "id": "7c0285b3",
   "metadata": {},
   "outputs": [
    {
     "data": {
      "text/plain": [
       "{'ids': ['de8123b0-c166-43e0-ad17-3e90316684ae',\n",
       "  'fe876535-1b3e-422d-978f-c0293be11db8',\n",
       "  '00ee6392-b7f9-4e05-9d77-f0962cfd4b7f',\n",
       "  '802354cb-d6c1-4782-b39b-ad23913ac35c',\n",
       "  'd3e3d362-b744-4e05-bf6a-62933a6d7800'],\n",
       " 'embeddings': array([[ 0.04452872,  0.08289852, -0.08427917, ..., -0.06355004,\n",
       "          0.05513578, -0.01004694],\n",
       "        [-0.00630059,  0.02149991, -0.02465472, ..., -0.00917051,\n",
       "         -0.02858398,  0.02728118],\n",
       "        [-0.09095022,  0.03579462,  0.03354594, ..., -0.02800354,\n",
       "         -0.07701195, -0.01171459],\n",
       "        [ 0.01451916, -0.03316108, -0.03911339, ..., -0.10427225,\n",
       "          0.00339566,  0.09204794],\n",
       "        [ 0.00241315,  0.0432018 , -0.04259784, ..., -0.07994307,\n",
       "         -0.06304957,  0.01494549]], shape=(5, 384)),\n",
       " 'documents': [\"Virat Kohli, often called the 'Run Machine', is one of the greatest batsmen in modern cricket.He has consistently dominated all formats with his exceptional batting technique, fitness, and determination. As the former captain of the Indian cricket team, he has numerous records to his name, including being one of the fastest players to reach 8000, 9000, and 10000 ODI runs.\",\n",
       "  \"Rohit Sharma is the most successful captain in IPL history, leading Mumbai Indians to five titles. He's known for his calm demeanor, explosive batting, and brilliant leadership on the field.\",\n",
       "  'MS Dhoni, famously known as Captain Cool, has led Chennai Super Kings to multiple IPL titles.His finishing skills, wicket-keeping excellence, and leadership qualities make him one of the greatest players in IPL history.',\n",
       "  'Jasprit Bumrah is considered one of the best fast bowlers in T20 cricket. Playing for Mumbai Indians, he is known for his deadly yorkers, consistency, and ability to perform under pressure.',\n",
       "  'Ravindra Jadeja is a dynamic all-rounder who contributes with both bat and ball. Representing Chennai Super Kings, his aggressive batting, accurate left-arm spin, and sharp fielding have made him a match-winner on many occasions.'],\n",
       " 'uris': None,\n",
       " 'included': ['embeddings', 'documents', 'metadatas'],\n",
       " 'data': None,\n",
       " 'metadatas': [{'team': 'Royal Challengers Bangalore'},\n",
       "  {'team': 'Mumbai Indians'},\n",
       "  {'team': 'Chennai Super Kings'},\n",
       "  {'team': 'Mumbai Indians'},\n",
       "  {'team': 'Chennai Super Kings'}]}"
      ]
     },
     "execution_count": 28,
     "metadata": {},
     "output_type": "execute_result"
    }
   ],
   "source": [
    "# Check the embedding from the vector store\n",
    "vector_store.get(include=[\"embeddings\",\"documents\", \"metadatas\"])"
   ]
  },
  {
   "cell_type": "code",
   "execution_count": 31,
   "id": "e8f04cfa",
   "metadata": {},
   "outputs": [],
   "source": [
    "# Delete a document from the vector store\n",
    "vector_store.delete(ids=\"de8123b0-c166-43e0-ad17-3e90316684ae\")"
   ]
  },
  {
   "cell_type": "code",
   "execution_count": 32,
   "id": "740bde46",
   "metadata": {},
   "outputs": [
    {
     "data": {
      "text/plain": [
       "{'ids': ['fe876535-1b3e-422d-978f-c0293be11db8',\n",
       "  '00ee6392-b7f9-4e05-9d77-f0962cfd4b7f',\n",
       "  '802354cb-d6c1-4782-b39b-ad23913ac35c',\n",
       "  'd3e3d362-b744-4e05-bf6a-62933a6d7800'],\n",
       " 'embeddings': array([[-0.00630059,  0.02149991, -0.02465472, ..., -0.00917051,\n",
       "         -0.02858398,  0.02728118],\n",
       "        [-0.09095022,  0.03579462,  0.03354594, ..., -0.02800354,\n",
       "         -0.07701195, -0.01171459],\n",
       "        [ 0.01451916, -0.03316108, -0.03911339, ..., -0.10427225,\n",
       "          0.00339566,  0.09204794],\n",
       "        [ 0.00241315,  0.0432018 , -0.04259784, ..., -0.07994307,\n",
       "         -0.06304957,  0.01494549]], shape=(4, 384)),\n",
       " 'documents': [\"Rohit Sharma is the most successful captain in IPL history, leading Mumbai Indians to five titles. He's known for his calm demeanor, explosive batting, and brilliant leadership on the field.\",\n",
       "  'MS Dhoni, famously known as Captain Cool, has led Chennai Super Kings to multiple IPL titles.His finishing skills, wicket-keeping excellence, and leadership qualities make him one of the greatest players in IPL history.',\n",
       "  'Jasprit Bumrah is considered one of the best fast bowlers in T20 cricket. Playing for Mumbai Indians, he is known for his deadly yorkers, consistency, and ability to perform under pressure.',\n",
       "  'Ravindra Jadeja is a dynamic all-rounder who contributes with both bat and ball. Representing Chennai Super Kings, his aggressive batting, accurate left-arm spin, and sharp fielding have made him a match-winner on many occasions.'],\n",
       " 'uris': None,\n",
       " 'included': ['embeddings', 'documents', 'metadatas'],\n",
       " 'data': None,\n",
       " 'metadatas': [{'team': 'Mumbai Indians'},\n",
       "  {'team': 'Chennai Super Kings'},\n",
       "  {'team': 'Mumbai Indians'},\n",
       "  {'team': 'Chennai Super Kings'}]}"
      ]
     },
     "execution_count": 32,
     "metadata": {},
     "output_type": "execute_result"
    }
   ],
   "source": [
    "# Check the embedding from the vector store\n",
    "vector_store.get(include=[\"embeddings\",\"documents\", \"metadatas\"])"
   ]
  }
 ],
 "metadata": {
  "kernelspec": {
   "display_name": "langchain",
   "language": "python",
   "name": "python3"
  },
  "language_info": {
   "codemirror_mode": {
    "name": "ipython",
    "version": 3
   },
   "file_extension": ".py",
   "mimetype": "text/x-python",
   "name": "python",
   "nbconvert_exporter": "python",
   "pygments_lexer": "ipython3",
   "version": "3.13.2"
  }
 },
 "nbformat": 4,
 "nbformat_minor": 5
}
