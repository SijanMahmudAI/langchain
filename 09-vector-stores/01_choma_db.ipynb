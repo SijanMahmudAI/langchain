{
 "cells": [
  {
   "cell_type": "code",
   "execution_count": null,
   "id": "ac74969f",
   "metadata": {},
   "outputs": [],
   "source": [
    "# Import necessary libraries and modules\n",
    "from langchain_openai import OpenAIEmbeddings\n",
    "from langchain_huggingface import HuggingFaceEmbeddings\n",
    "from langchain.vectorstores import Chroma\n",
    "from dotenv import load_dotenv\n",
    "\n",
    "# Load environment variables from .env file\n",
    "load_dotenv()  "
   ]
  },
  {
   "cell_type": "code",
   "execution_count": null,
   "id": "5aea3f30",
   "metadata": {},
   "outputs": [],
   "source": [
    "from langchain.schema import Document\n",
    "\n",
    "# Create LangChain documents for IPL players\n",
    "doc1 = Document(\n",
    "    page_content=\"Virat Kohli is one of the most successful and consistent batsmen in IPL history.Known for his aggressive batting style and exceptional run-scoring ability, he has been the backbone of Royal Challengers Bangalore for many seasons.\",\n",
    "    metadata={\"team\": \"Royal Challengers Bangalore\"}\n",
    ")\n",
    "\n",
    "doc2 = Document(\n",
    "    page_content=\"Rohit Sharma is the most successful captain in IPL history, leading Mumbai Indians to five titles. He's known for his calm demeanor, explosive batting, and brilliant leadership on the field.\",\n",
    "    metadata={\"team\": \"Mumbai Indians\"}\n",
    ")\n",
    "\n",
    "doc3 = Document(\n",
    "    page_content=\"MS Dhoni, famously known as Captain Cool, has led Chennai Super Kings to multiple IPL titles.His finishing skills, wicket-keeping excellence, and leadership qualities make him one of the greatest players in IPL history.\",\n",
    "    metadata={\"team\": \"Chennai Super Kings\"}\n",
    ")\n",
    "\n",
    "doc4 = Document(\n",
    "    page_content=\"Jasprit Bumrah is considered one of the best fast bowlers in T20 cricket. Playing for Mumbai Indians, he is known for his deadly yorkers, consistency, and ability to perform under pressure.\",\n",
    "    metadata={\"team\": \"Mumbai Indians\"}\n",
    ")\n",
    "\n",
    "doc5 = Document(\n",
    "    page_content=\"Ravindra Jadeja is a dynamic all-rounder who contributes with both bat and ball. Representing Chennai Super Kings, his aggressive batting, accurate left-arm spin, and sharp fielding have made him a match-winner on many occasions.\",\n",
    "    metadata={\"team\": \"Chennai Super Kings\"}\n",
    ")\n"
   ]
  },
  {
   "cell_type": "code",
   "execution_count": null,
   "id": "c0a013f7",
   "metadata": {},
   "outputs": [],
   "source": [
    "docs = [doc1, doc2, doc3, doc4, doc5]"
   ]
  },
  {
   "cell_type": "code",
   "execution_count": null,
   "id": "01f48153",
   "metadata": {},
   "outputs": [],
   "source": [
    "# Create a vector store using Chroma and OpenAI embeddings\n",
    "vector_store = Chroma(\n",
    "    embedding_function=HuggingFaceEmbeddings(model_name=\"sentence-transformers/all-MiniLM-L6-v2\"),\n",
    "    persist_directory=\"my_chroma_db\",\n",
    "    collection_name=\"sample\"\n",
    ")"
   ]
  },
  {
   "cell_type": "code",
   "execution_count": null,
   "id": "3574bf59",
   "metadata": {},
   "outputs": [],
   "source": [
    "# Add documents to the vector store\n",
    "vector_store.add_documents(docs)"
   ]
  },
  {
   "cell_type": "code",
   "execution_count": null,
   "id": "50a28980",
   "metadata": {},
   "outputs": [],
   "source": [
    "# Check the embedding from the vector store\n",
    "vector_store.get(include=[\"embeddings\",\"documents\", \"metadatas\"])"
   ]
  },
  {
   "cell_type": "code",
   "execution_count": null,
   "id": "c046c09c",
   "metadata": {},
   "outputs": [],
   "source": [
    "# Get similar documents based on a query\n",
    "query = \"Who is the best captain in IPL?\"\n",
    "vector_store.similarity_search(\n",
    "    query=query,\n",
    "    k=1\n",
    ")"
   ]
  },
  {
   "cell_type": "code",
   "execution_count": null,
   "id": "80bc7bb3",
   "metadata": {},
   "outputs": [],
   "source": [
    "# Get similarity search with scores\n",
    "query = \"Who is the best captain in IPL?\"\n",
    "vector_store.similarity_search_with_score(\n",
    "    query=query,\n",
    "    k=1\n",
    ")"
   ]
  },
  {
   "cell_type": "code",
   "execution_count": null,
   "id": "26621660",
   "metadata": {},
   "outputs": [],
   "source": [
    "# Meta data filtering\n",
    "vector_store.similarity_search(\n",
    "    filter={\"team\": \"Mumbai Indians\"},\n",
    "    query=\"Who is the best captain in IPL?\",\n",
    "    k=1\n",
    ")"
   ]
  },
  {
   "cell_type": "code",
   "execution_count": null,
   "id": "8998f10d",
   "metadata": {},
   "outputs": [],
   "source": [
    "updated_doc1 = Document(\n",
    "    page_content=\"Virat Kohli, often called the 'Run Machine', is one of the greatest batsmen in modern cricket.He has consistently dominated all formats with his exceptional batting technique, fitness, and determination. As the former captain of the Indian cricket team, he has numerous records to his name, including being one of the fastest players to reach 8000, 9000, and 10000 ODI runs.\",\n",
    "    metadata={\"team\": \"Royal Challengers Bangalore\"}\n",
    ")"
   ]
  },
  {
   "cell_type": "code",
   "execution_count": null,
   "id": "40f1520c",
   "metadata": {},
   "outputs": [],
   "source": [
    "# Update a document in the vector store\n",
    "vector_store.update_document(document_id=\"9d84f83e-e7e9-476e-859b-321145240d69\", document=updated_doc1)"
   ]
  },
  {
   "cell_type": "code",
   "execution_count": null,
   "id": "7c0285b3",
   "metadata": {},
   "outputs": [],
   "source": [
    "# Check the embedding from the vector store\n",
    "vector_store.get(include=[\"embeddings\",\"documents\", \"metadatas\"])"
   ]
  },
  {
   "cell_type": "code",
   "execution_count": null,
   "id": "e8f04cfa",
   "metadata": {},
   "outputs": [],
   "source": [
    "# Delete a document from the vector store\n",
    "vector_store.delete(ids=\"de8123b0-c166-43e0-ad17-3e90316684ae\")"
   ]
  },
  {
   "cell_type": "code",
   "execution_count": null,
   "id": "740bde46",
   "metadata": {},
   "outputs": [],
   "source": [
    "# Check the embedding from the vector store\n",
    "vector_store.get(include=[\"embeddings\",\"documents\", \"metadatas\"])"
   ]
  }
 ],
 "metadata": {
  "kernelspec": {
   "display_name": "langchain",
   "language": "python",
   "name": "python3"
  },
  "language_info": {
   "codemirror_mode": {
    "name": "ipython",
    "version": 3
   },
   "file_extension": ".py",
   "mimetype": "text/x-python",
   "name": "python",
   "nbconvert_exporter": "python",
   "pygments_lexer": "ipython3",
   "version": "3.13.2"
  }
 },
 "nbformat": 4,
 "nbformat_minor": 5
}
