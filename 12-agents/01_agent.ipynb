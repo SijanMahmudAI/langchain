{
 "cells": [
  {
   "cell_type": "code",
   "execution_count": 1,
   "id": "94a2e900",
   "metadata": {},
   "outputs": [
    {
     "name": "stderr",
     "output_type": "stream",
     "text": [
      "c:\\Users\\Ns Laptop\\miniconda3\\envs\\langchain\\Lib\\site-packages\\tqdm\\auto.py:21: TqdmWarning: IProgress not found. Please update jupyter and ipywidgets. See https://ipywidgets.readthedocs.io/en/stable/user_install.html\n",
      "  from .autonotebook import tqdm as notebook_tqdm\n"
     ]
    },
    {
     "data": {
      "text/plain": [
       "True"
      ]
     },
     "execution_count": 1,
     "metadata": {},
     "output_type": "execute_result"
    }
   ],
   "source": [
    "# Import all necessary libraries and modules\n",
    "from langchain_core.tools import tool\n",
    "from langchain.chat_models import init_chat_model\n",
    "from langchain_community.tools import DuckDuckGoSearchRun\n",
    "import requests\n",
    "from dotenv import load_dotenv\n",
    "\n",
    "# Load environment variables from a .env file\n",
    "load_dotenv()"
   ]
  },
  {
   "cell_type": "code",
   "execution_count": 2,
   "id": "1e50af12",
   "metadata": {},
   "outputs": [
    {
     "data": {
      "text/plain": [
       "'3 weeks ago - But the name changed after independence of Bangladesh . It exchanges news with AFP, Xinhua, Press Trust of India (PTI), APP(Pakistan) and other foreign agencies. United News of Bangladesh (UNB) is a private news agency in service since 1988. It partners with AP, United News of India (UNI), and other foreign agencies. Ajker Kagoj (Bengali: দৈনিক আজকের কাগজ; \" Today ... February 13, 2025 - The UN human rights office probe mission started work in Bangladesh on 16 of September 2024 with a team that included a forensic physician, a weapons expert, a gender expert and an open-source analyst. The investigators visited protest hotspots including universities and hospitals. June 2, 2025 - A special court in Bangladesh on Sunday issued an arrest warrant for the ousted leader Sheikh Hasina , as prosecutors sought to hold her accountable for the deaths of more than a thousand protesters in the final months of her authoritarian rule. The International Crimes Tribunal, which Ms. April 26, 2025 - One of the most popular newspapers in Bangladesh is Prothom Alo , which has the largest circulation of any newspaper in the country. It is known for its comprehensive coverage of local and international news, as well as its in-depth reporting on social and political issues. July 15, 2025 - Bangladesh struggles to contain the fallout of an uprising that toppled its leader last year ... Students clash with police during a protest over the allocation of government jobs, in Dhaka, Bangladesh, July 19, 2024. (AP Photo/Rajib Dhar, File) Read More ...'"
      ]
     },
     "execution_count": 2,
     "metadata": {},
     "output_type": "execute_result"
    }
   ],
   "source": [
    "search_tool = DuckDuckGoSearchRun()\n",
    "result = search_tool.invoke(\"What is the top news of bangladesh today?\")\n",
    "result"
   ]
  },
  {
   "cell_type": "code",
   "execution_count": 3,
   "id": "3f6ee733",
   "metadata": {},
   "outputs": [],
   "source": [
    "llm = init_chat_model(\"gemini-2.5-flash\", model_provider=\"google_genai\")"
   ]
  },
  {
   "cell_type": "code",
   "execution_count": 4,
   "id": "f038d2b5",
   "metadata": {},
   "outputs": [
    {
     "data": {
      "text/plain": [
       "\"Hello! As an AI, I don't experience feelings or states of being like humans do. However, I'm functioning perfectly and ready to assist you!\\n\\nHow are you today?\""
      ]
     },
     "execution_count": 4,
     "metadata": {},
     "output_type": "execute_result"
    }
   ],
   "source": [
    "llm.invoke(\"hello, how are you?\").content"
   ]
  },
  {
   "cell_type": "code",
   "execution_count": 5,
   "id": "5e7822c1",
   "metadata": {},
   "outputs": [],
   "source": [
    "from langchain.agents import create_react_agent, AgentExecutor\n",
    "from langchain import hub"
   ]
  },
  {
   "cell_type": "code",
   "execution_count": 6,
   "id": "fec39829",
   "metadata": {},
   "outputs": [],
   "source": [
    "# Pull the REACT agent prompt from LangChain Hub\n",
    "prompt = hub.pull(\"hwchase17/react\")\n"
   ]
  },
  {
   "cell_type": "code",
   "execution_count": 7,
   "id": "3e8177e9",
   "metadata": {},
   "outputs": [
    {
     "data": {
      "text/plain": [
       "PromptTemplate(input_variables=['agent_scratchpad', 'input', 'tool_names', 'tools'], input_types={}, partial_variables={}, metadata={'lc_hub_owner': 'hwchase17', 'lc_hub_repo': 'react', 'lc_hub_commit_hash': 'd15fe3c426f1c4b3f37c9198853e4a86e20c425ca7f4752ec0c9b0e97ca7ea4d'}, template='Answer the following questions as best you can. You have access to the following tools:\\n\\n{tools}\\n\\nUse the following format:\\n\\nQuestion: the input question you must answer\\nThought: you should always think about what to do\\nAction: the action to take, should be one of [{tool_names}]\\nAction Input: the input to the action\\nObservation: the result of the action\\n... (this Thought/Action/Action Input/Observation can repeat N times)\\nThought: I now know the final answer\\nFinal Answer: the final answer to the original input question\\n\\nBegin!\\n\\nQuestion: {input}\\nThought:{agent_scratchpad}')"
      ]
     },
     "execution_count": 7,
     "metadata": {},
     "output_type": "execute_result"
    }
   ],
   "source": [
    "prompt"
   ]
  },
  {
   "cell_type": "code",
   "execution_count": 8,
   "id": "39fcf656",
   "metadata": {},
   "outputs": [],
   "source": [
    "# Create my own tool\n",
    "@tool\n",
    "def get_weather_data(city: str ) -> str:\n",
    "    \"\"\"This function will give you the current weather information\"\"\"\n",
    "\n",
    "    url = f\"https://api.weatherstack.com/current?access_key=6044714fb3959b4e74fa681432181b47&query={city}\"\n",
    "\n",
    "    response = requests.get(url)\n",
    "\n",
    "    return response.json()\n",
    "\n"
   ]
  },
  {
   "cell_type": "code",
   "execution_count": 9,
   "id": "6a755b8a",
   "metadata": {},
   "outputs": [
    {
     "data": {
      "text/plain": [
       "{'request': {'type': 'City',\n",
       "  'query': 'Dhaka, Bangladesh',\n",
       "  'language': 'en',\n",
       "  'unit': 'm'},\n",
       " 'location': {'name': 'Dhaka',\n",
       "  'country': 'Bangladesh',\n",
       "  'region': '',\n",
       "  'lat': '23.723',\n",
       "  'lon': '90.409',\n",
       "  'timezone_id': 'Asia/Dhaka',\n",
       "  'localtime': '2025-10-08 17:32',\n",
       "  'localtime_epoch': 1759944720,\n",
       "  'utc_offset': '6.0'},\n",
       " 'current': {'observation_time': '11:32 AM',\n",
       "  'temperature': 30,\n",
       "  'weather_code': 353,\n",
       "  'weather_icons': ['https://cdn.worldweatheronline.com/images/wsymbols01_png_64/wsymbol_0009_light_rain_showers.png'],\n",
       "  'weather_descriptions': ['Light rain shower'],\n",
       "  'astro': {'sunrise': '05:53 AM',\n",
       "   'sunset': '05:39 PM',\n",
       "   'moonrise': '06:23 PM',\n",
       "   'moonset': '06:51 AM',\n",
       "   'moon_phase': 'Waning Gibbous',\n",
       "   'moon_illumination': 99},\n",
       "  'air_quality': {'co': '359.85',\n",
       "   'no2': '12.75',\n",
       "   'o3': '84',\n",
       "   'so2': '17.95',\n",
       "   'pm2_5': '18.65',\n",
       "   'pm10': '19.15',\n",
       "   'us-epa-index': '2',\n",
       "   'gb-defra-index': '2'},\n",
       "  'wind_speed': 4,\n",
       "  'wind_degree': 201,\n",
       "  'wind_dir': 'SSW',\n",
       "  'pressure': 1007,\n",
       "  'precip': 1.4,\n",
       "  'humidity': 70,\n",
       "  'cloudcover': 76,\n",
       "  'feelslike': 36,\n",
       "  'uv_index': 0,\n",
       "  'visibility': 10,\n",
       "  'is_day': 'yes'}}"
      ]
     },
     "execution_count": 9,
     "metadata": {},
     "output_type": "execute_result"
    }
   ],
   "source": [
    "get_weather_data.invoke({\"city\": \"dhaka\"})"
   ]
  },
  {
   "cell_type": "code",
   "execution_count": 10,
   "id": "dfe0683c",
   "metadata": {},
   "outputs": [],
   "source": [
    "# Create an agent\n",
    "agent = create_react_agent(\n",
    "    llm=llm,\n",
    "    tools=[search_tool, get_weather_data],\n",
    "    prompt=prompt\n",
    ")"
   ]
  },
  {
   "cell_type": "code",
   "execution_count": 11,
   "id": "945c35af",
   "metadata": {},
   "outputs": [],
   "source": [
    "# Wrap it with an AgentExecutor\n",
    "executor = AgentExecutor(\n",
    "    agent=agent,\n",
    "    tools=[search_tool, get_weather_data],\n",
    "    verbose=True\n",
    ")"
   ]
  },
  {
   "cell_type": "code",
   "execution_count": 12,
   "id": "07b9b3e0",
   "metadata": {},
   "outputs": [
    {
     "name": "stdout",
     "output_type": "stream",
     "text": [
      "\n",
      "\n",
      "\u001b[1m> Entering new AgentExecutor chain...\u001b[0m\n",
      "\u001b[32;1m\u001b[1;3mAction: duckduckgo_search\n",
      "Action Input: capital of Bangladesh\u001b[0m\u001b[36;1m\u001b[1;3m5 days ago - Dhaka, formerly spelled as Dacca, is the capital and largest city of Bangladesh . It is one of the largest and most densely populated cities in the world with a density of about 34,000 citizens per square kilometers within a total area of approximately 300 square kilometers. 3 days ago - Bangladesh shares land borders with India to the north, west, and east, and Myanmar to the southeast. It has a coastline along the Bay of Bengal to its south and is separated from Bhutan and Nepal by the Siliguri Corridor, and from China by the Indian state of Sikkim to its north. Dhaka, the capital ... 5 days ago - The bureau defines an urban centre with a population of 100,000 or more as a \"city\". Altogether, there are 43 such cities in Bangladesh . 12 of these cities can be considered major cities as these are governed by city corporations. August 21, 2025 - Bangladesh has land borders with India on the north, west, and east, and Myanmar on the southeast. In the south, it has a coastline along the Bay of Bengal. In the north, the Siliguri Corridor separates it from Bhutan and Nepal, and the Indian state of Sikkim separates it from China. Dhaka is the capital ... August 8, 2025 - The government was constituted ... (the Supreme Court). Bangladesh is a unitary state and the central government has the authority to govern over the entirety of the nation. The seat of the government is located in Dhaka, the capital of Bangladesh ....\u001b[0m\u001b[32;1m\u001b[1;3mAction: get_weather_data\n",
      "Action Input: Dhaka\u001b[0m\u001b[33;1m\u001b[1;3m{'request': {'type': 'City', 'query': 'Dhaka, Bangladesh', 'language': 'en', 'unit': 'm'}, 'location': {'name': 'Dhaka', 'country': 'Bangladesh', 'region': '', 'lat': '23.723', 'lon': '90.409', 'timezone_id': 'Asia/Dhaka', 'localtime': '2025-10-08 17:25', 'localtime_epoch': 1759944300, 'utc_offset': '6.0'}, 'current': {'observation_time': '11:25 AM', 'temperature': 30, 'weather_code': 353, 'weather_icons': ['https://cdn.worldweatheronline.com/images/wsymbols01_png_64/wsymbol_0009_light_rain_showers.png'], 'weather_descriptions': ['Light rain shower'], 'astro': {'sunrise': '05:53 AM', 'sunset': '05:39 PM', 'moonrise': '06:23 PM', 'moonset': '06:51 AM', 'moon_phase': 'Waning Gibbous', 'moon_illumination': 99}, 'air_quality': {'co': '359.85', 'no2': '12.75', 'o3': '84', 'so2': '17.95', 'pm2_5': '18.65', 'pm10': '19.15', 'us-epa-index': '2', 'gb-defra-index': '2'}, 'wind_speed': 4, 'wind_degree': 201, 'wind_dir': 'SSW', 'pressure': 1007, 'precip': 1.4, 'humidity': 70, 'cloudcover': 76, 'feelslike': 36, 'uv_index': 0, 'visibility': 10, 'is_day': 'yes'}}\u001b[0m\u001b[32;1m\u001b[1;3mI now know the final answer\n",
      "Final Answer: The capital of Bangladesh is Dhaka. The current temperature in Dhaka is 30°C, but it feels like 36°C. There is a light rain shower, and the wind speed is 4 km/h from the SSW. The humidity is 70%.\u001b[0m\n",
      "\n",
      "\u001b[1m> Finished chain.\u001b[0m\n"
     ]
    },
    {
     "data": {
      "text/plain": [
       "{'input': 'what is the capital of bangladesh and tell me about the tempreture of the city',\n",
       " 'output': 'The capital of Bangladesh is Dhaka. The current temperature in Dhaka is 30°C, but it feels like 36°C. There is a light rain shower, and the wind speed is 4 km/h from the SSW. The humidity is 70%.'}"
      ]
     },
     "execution_count": 12,
     "metadata": {},
     "output_type": "execute_result"
    }
   ],
   "source": [
    "# Invoke\n",
    "response = executor.invoke({\"input\": \"what is the capital of bangladesh and tell me about the tempreture of the city\"})\n",
    "response"
   ]
  },
  {
   "cell_type": "code",
   "execution_count": 13,
   "id": "824bce38",
   "metadata": {},
   "outputs": [
    {
     "data": {
      "text/plain": [
       "'The capital of Bangladesh is Dhaka. The current temperature in Dhaka is 30°C, but it feels like 36°C. There is a light rain shower, and the wind speed is 4 km/h from the SSW. The humidity is 70%.'"
      ]
     },
     "execution_count": 13,
     "metadata": {},
     "output_type": "execute_result"
    }
   ],
   "source": [
    "response[\"output\"]"
   ]
  }
 ],
 "metadata": {
  "kernelspec": {
   "display_name": "langchain",
   "language": "python",
   "name": "python3"
  },
  "language_info": {
   "codemirror_mode": {
    "name": "ipython",
    "version": 3
   },
   "file_extension": ".py",
   "mimetype": "text/x-python",
   "name": "python",
   "nbconvert_exporter": "python",
   "pygments_lexer": "ipython3",
   "version": "3.13.2"
  }
 },
 "nbformat": 4,
 "nbformat_minor": 5
}
