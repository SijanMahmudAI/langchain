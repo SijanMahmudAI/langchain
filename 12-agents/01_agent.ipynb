{
 "cells": [
  {
   "cell_type": "code",
   "execution_count": null,
   "id": "94a2e900",
   "metadata": {},
   "outputs": [],
   "source": [
    "# Import all necessary libraries and modules\n",
    "from langchain_core.tools import tool\n",
    "from langchain.chat_models import init_chat_model\n",
    "from langchain_community.tools import DuckDuckGoSearchRun\n",
    "import requests\n",
    "from dotenv import load_dotenv\n",
    "\n",
    "# Load environment variables from a .env file\n",
    "load_dotenv()"
   ]
  },
  {
   "cell_type": "code",
   "execution_count": null,
   "id": "1e50af12",
   "metadata": {},
   "outputs": [],
   "source": [
    "search_tool = DuckDuckGoSearchRun()\n",
    "result = search_tool.invoke(\"What is the top news of bangladesh today?\")\n",
    "result"
   ]
  },
  {
   "cell_type": "code",
   "execution_count": null,
   "id": "3f6ee733",
   "metadata": {},
   "outputs": [],
   "source": [
    "llm = init_chat_model(\"gemini-2.5-flash\", model_provider=\"google_genai\")"
   ]
  },
  {
   "cell_type": "code",
   "execution_count": null,
   "id": "f038d2b5",
   "metadata": {},
   "outputs": [],
   "source": [
    "llm.invoke(\"hello, how are you?\").content"
   ]
  },
  {
   "cell_type": "code",
   "execution_count": null,
   "id": "5e7822c1",
   "metadata": {},
   "outputs": [],
   "source": [
    "from langchain.agents import create_react_agent, AgentExecutor\n",
    "from langchain import hub"
   ]
  },
  {
   "cell_type": "code",
   "execution_count": null,
   "id": "fec39829",
   "metadata": {},
   "outputs": [],
   "source": [
    "# Pull the REACT agent prompt from LangChain Hub\n",
    "prompt = hub.pull(\"hwchase17/react\")\n"
   ]
  },
  {
   "cell_type": "code",
   "execution_count": null,
   "id": "3e8177e9",
   "metadata": {},
   "outputs": [],
   "source": [
    "prompt"
   ]
  },
  {
   "cell_type": "code",
   "execution_count": null,
   "id": "39fcf656",
   "metadata": {},
   "outputs": [],
   "source": [
    "# Create my own tool\n",
    "@tool\n",
    "def get_weather_data(city: str ) -> str:\n",
    "    \"\"\"This function will give you the current weather information\"\"\"\n",
    "\n",
    "    url = f\"https://api.weatherstack.com/current?access_key=6044714fb3959b4e74fa681432181b47&query={city}\"\n",
    "\n",
    "    response = requests.get(url)\n",
    "\n",
    "    return response.json()\n",
    "\n"
   ]
  },
  {
   "cell_type": "code",
   "execution_count": null,
   "id": "6a755b8a",
   "metadata": {},
   "outputs": [],
   "source": [
    "get_weather_data.invoke({\"city\": \"dhaka\"})"
   ]
  },
  {
   "cell_type": "code",
   "execution_count": null,
   "id": "dfe0683c",
   "metadata": {},
   "outputs": [],
   "source": [
    "# Create an agent\n",
    "agent = create_react_agent(\n",
    "    llm=llm,\n",
    "    tools=[search_tool, get_weather_data],\n",
    "    prompt=prompt\n",
    ")"
   ]
  },
  {
   "cell_type": "code",
   "execution_count": null,
   "id": "945c35af",
   "metadata": {},
   "outputs": [],
   "source": [
    "# Wrap it with an AgentExecutor\n",
    "executor = AgentExecutor(\n",
    "    agent=agent,\n",
    "    tools=[search_tool, get_weather_data],\n",
    "    verbose=True\n",
    ")"
   ]
  },
  {
   "cell_type": "code",
   "execution_count": null,
   "id": "07b9b3e0",
   "metadata": {},
   "outputs": [],
   "source": [
    "# Invoke\n",
    "response = executor.invoke({\"input\": \"what is the capital of bangladesh and tell me about the tempreture of the city\"})\n",
    "response"
   ]
  },
  {
   "cell_type": "code",
   "execution_count": null,
   "id": "824bce38",
   "metadata": {},
   "outputs": [],
   "source": [
    "response[\"output\"]"
   ]
  }
 ],
 "metadata": {
  "kernelspec": {
   "display_name": "langchain",
   "language": "python",
   "name": "python3"
  },
  "language_info": {
   "codemirror_mode": {
    "name": "ipython",
    "version": 3
   },
   "file_extension": ".py",
   "mimetype": "text/x-python",
   "name": "python",
   "nbconvert_exporter": "python",
   "pygments_lexer": "ipython3",
   "version": "3.13.2"
  }
 },
 "nbformat": 4,
 "nbformat_minor": 5
}
